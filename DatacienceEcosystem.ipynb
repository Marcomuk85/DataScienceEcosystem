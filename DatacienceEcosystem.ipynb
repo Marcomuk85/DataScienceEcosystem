{
 "cells": [
  {
   "cell_type": "markdown",
   "id": "61edd830-10af-4718-b58f-525025cc8527",
   "metadata": {},
   "source": [
    "# Data Science Tools and Ecosystem"
   ]
  },
  {
   "cell_type": "markdown",
   "id": "19acd99e-e698-4c14-ab95-b00193c36925",
   "metadata": {},
   "source": [
    "In this notebook, Data Science Tools and Ecosystem are summarized"
   ]
  },
  {
   "cell_type": "markdown",
   "id": "6b78b602-f9d5-4d1a-b045-ee685f8fbcd5",
   "metadata": {},
   "source": [
    "**Objectives:**\n",
    "- List the popular languages in Data Science\n",
    "- List some libraries used in Data Science\n",
    "- Insert code and markdown cells"
   ]
  },
  {
   "cell_type": "markdown",
   "id": "0b94c5f0-ea37-4834-86bc-fab30a129ed6",
   "metadata": {},
   "source": [
    "Some of the popular languages that Data Scientists use are:\n",
    "1. Python\n",
    "2. R\n",
    "3. Scala\n",
    "4. C++\n",
    "5. Java"
   ]
  },
  {
   "cell_type": "markdown",
   "id": "8a63fc6b-233b-4383-a6e6-211bbc8fae2b",
   "metadata": {},
   "source": [
    "Some of the commonly used libraries used by Data Scientists include:\n",
    "- Pandas\n",
    "- Numpy\n",
    "- ScikitLearn\n",
    "- Keras\n",
    "- ggplot"
   ]
  },
  {
   "cell_type": "markdown",
   "id": "e9af2847-d293-4fd7-b055-3721909e7c9d",
   "metadata": {},
   "source": [
    "|Data Science Tools|\n",
    "|------------------|\n",
    "|Kubernetes|\n",
    "|Apache Airflow|\n",
    "|MySQL|\n",
    "|GitHub|\n"
   ]
  },
  {
   "cell_type": "markdown",
   "id": "dfb35209-b121-4e5e-a89b-aba85d03038c",
   "metadata": {},
   "source": [
    "#### Below are a few examples of evaluating arithmetic expressions in Python."
   ]
  },
  {
   "cell_type": "code",
   "execution_count": 1,
   "id": "90d957ed-9e62-4655-b86a-adcec5fdf4b3",
   "metadata": {},
   "outputs": [
    {
     "data": {
      "text/plain": [
       "17"
      ]
     },
     "execution_count": 1,
     "metadata": {},
     "output_type": "execute_result"
    }
   ],
   "source": [
    "#This a simple arithmetic expression to mutiply\n",
    "(3*4)+5"
   ]
  },
  {
   "cell_type": "code",
   "execution_count": 4,
   "id": "9746f526-9f9a-4ac4-a7c0-31a75c9a8ce3",
   "metadata": {},
   "outputs": [
    {
     "data": {
      "text/plain": [
       "3.3333333333333335"
      ]
     },
     "execution_count": 4,
     "metadata": {},
     "output_type": "execute_result"
    }
   ],
   "source": [
    "# This will convert 200 minutes to hours by diving by 60.\n",
    "200/60"
   ]
  },
  {
   "cell_type": "markdown",
   "id": "6244230c-f444-4a95-a1c5-f1df022b3635",
   "metadata": {},
   "source": [
    "## Author\n",
    "Jean-Marc Mukalay"
   ]
  },
  {
   "cell_type": "code",
   "execution_count": null,
   "id": "306e3e27-8d38-43f2-913f-8803eae20afc",
   "metadata": {},
   "outputs": [],
   "source": []
  }
 ],
 "metadata": {
  "kernelspec": {
   "display_name": "Python 3 (ipykernel)",
   "language": "python",
   "name": "python3"
  },
  "language_info": {
   "codemirror_mode": {
    "name": "ipython",
    "version": 3
   },
   "file_extension": ".py",
   "mimetype": "text/x-python",
   "name": "python",
   "nbconvert_exporter": "python",
   "pygments_lexer": "ipython3",
   "version": "3.12.7"
  }
 },
 "nbformat": 4,
 "nbformat_minor": 5
}
